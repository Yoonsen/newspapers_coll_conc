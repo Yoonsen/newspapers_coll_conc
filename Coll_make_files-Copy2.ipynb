{
 "cells": [
  {
   "cell_type": "markdown",
   "metadata": {},
   "source": [
    "\n",
    "# Data and computations for paper \n",
    "\n",
    "Lars G. Johnsen\n",
    "National Library of Norway"
   ]
  },
  {
   "cell_type": "code",
   "execution_count": 1,
   "metadata": {},
   "outputs": [
    {
     "data": {
      "text/markdown": [
       "Updated file `C:\\Users\\larsj\\Documents\\GitHub\\newspapers_coll_conc\\collocations.py`"
      ],
      "text/plain": [
       "<IPython.core.display.Markdown object>"
      ]
     },
     "metadata": {},
     "output_type": "display_data"
    }
   ],
   "source": [
    "import dhlab.nbtext as nb\n",
    "import dhlab.module_update as mu\n",
    "mu.update('collocations')\n",
    "from collocations import dist_coll_urn, urn_coll, calculate_midpoint, dist\n",
    "import pandas as pd"
   ]
  },
  {
   "cell_type": "code",
   "execution_count": 2,
   "metadata": {},
   "outputs": [],
   "source": [
    "def large_corpus_dist_coll(collword, urns = None, after= 10, before = 0, n = 300):\n",
    "    colls_freq = []\n",
    "    colls_dist = []\n",
    "    coll = pd.DataFrame()\n",
    "    for i in range(0, len(urns), n):\n",
    "        a = urn_coll(collword, urns = urns[i:i + n], after= after, before = before)\n",
    "        colls_freq.append(nb.frame(a['freq']))\n",
    "        colls_dist.append(nb.frame(a['dist']))\n",
    "    coll['freq'] = pd.concat(colls_freq, axis=1, sort=False).sum(axis=1)\n",
    "    coll['dist'] = pd.concat(colls_dist, axis = 1, sort=False).mean(axis=1)\n",
    "    coll['dist_score'] = round(dist(coll['dist'], calculate_midpoint(before, after), coll['freq']), 2)\n",
    "    return coll"
   ]
  },
  {
   "cell_type": "code",
   "execution_count": 3,
   "metadata": {},
   "outputs": [],
   "source": [
    "def large_corpus_coll(collword, urns = None, after= 5, before = 5, n = 300):\n",
    "    colls = []\n",
    "    for i in range(0, len(urns), n):\n",
    "        colls.append(nb.urn_coll(collword, urns=urns[i:i + n], after= after, before = before))\n",
    "    coll = pd.concat(colls, axis=1, sort=False).sum(axis=1)\n",
    "    return pd.DataFrame(coll)"
   ]
  },
  {
   "cell_type": "code",
   "execution_count": 4,
   "metadata": {},
   "outputs": [],
   "source": [
    "def make_coll_df(small, large, tot):\n",
    "    \"\"\"take two collocations, small and large, and a reference tot. The reference must av a column call tot as well\"\"\"\n",
    "    coll = pd.DataFrame()\n",
    "    coll['small'] = small['freq']\n",
    "    coll['large'] = large['freq']\n",
    "    #coll['ratio'] = coll['small']/coll['large']\n",
    "    coll['srel'] = coll.small/coll.small.sum()\n",
    "    coll['lrel'] = coll.large/coll.large.sum()\n",
    "    coll['ratio'] = coll.srel/coll.lrel\n",
    "    coll['adjusted'] = coll.small**0.01*coll.ratio\n",
    "    coll['nb'] = coll.small/tot.tot\n",
    "    return coll"
   ]
  },
  {
   "cell_type": "markdown",
   "metadata": {},
   "source": [
    "### Reference corpus\n",
    "\n",
    "The reference is the total counts from approximately 450 000 books from nb.no"
   ]
  },
  {
   "cell_type": "markdown",
   "metadata": {},
   "source": [
    "# Corpus\n",
    "\n",
    "The corpus for doing collocations is a sample of 800 books from fictional literature, dewey decimal code 813."
   ]
  },
  {
   "cell_type": "code",
   "execution_count": 5,
   "metadata": {},
   "outputs": [],
   "source": [
    "smd = 5\n",
    "lmd = 10\n",
    "collword = 'jeg'\n",
    "corpus_size= 1000\n",
    "period = (1980, 2000)"
   ]
  },
  {
   "cell_type": "code",
   "execution_count": 6,
   "metadata": {},
   "outputs": [],
   "source": [
    "def filenames(smd = 5, lmd = 10, collword = 'motor', corpus_size= 1000, period = (1980, 2000)):\n",
    "    return {\n",
    "    'small_right': '_'.join([collword, str(smd), str(corpus_size), '-'.join([str(x) for x in period]), str(0), str(int(2*smd)), '.csv']),\n",
    "    'large_right': '_'.join([collword, str(smd), str(corpus_size),  '-'.join([str(x) for x in period]), str(0), str(int(2*lmd)), '.csv']),\n",
    "    'small_left' : '_'.join([collword, str(lmd), str(corpus_size),  '-'.join([str(x) for x in period]), str(int(2*smd)), str(0), '.csv']),\n",
    "    'large_left' : '_'.join([collword, str(lmd), str(corpus_size),  '-'.join([str(x) for x in period]), str(int(2*lmd)), str(0), '.csv'])\n",
    "        }"
   ]
  },
  {
   "cell_type": "code",
   "execution_count": 7,
   "metadata": {},
   "outputs": [
    {
     "data": {
      "text/plain": [
       "{'small_right': 'jeg_5_1000_1980-2000_0_10_.csv',\n",
       " 'large_right': 'jeg_5_1000_1980-2000_0_20_.csv',\n",
       " 'small_left': 'jeg_10_1000_1980-2000_10_0_.csv',\n",
       " 'large_left': 'jeg_10_1000_1980-2000_20_0_.csv'}"
      ]
     },
     "execution_count": 7,
     "metadata": {},
     "output_type": "execute_result"
    }
   ],
   "source": [
    "fnames = filenames(smd=smd, lmd=lmd, collword=collword, corpus_size=corpus_size, period=period)\n",
    "fnames"
   ]
  },
  {
   "cell_type": "code",
   "execution_count": 8,
   "metadata": {},
   "outputs": [],
   "source": [
    "corpus = nb.book_corpus(words=[collword], period = period, limit = corpus_size)"
   ]
  },
  {
   "cell_type": "code",
   "execution_count": 9,
   "metadata": {},
   "outputs": [],
   "source": [
    "corpus = nb.frame([x for x in nb.metadata(corpus) if x[8] == 'nob'], ['urn'])"
   ]
  },
  {
   "cell_type": "code",
   "execution_count": 10,
   "metadata": {},
   "outputs": [
    {
     "name": "stdout",
     "output_type": "stream",
     "text": [
      "858\n"
     ]
    },
    {
     "data": {
      "text/html": [
       "<div>\n",
       "<style scoped>\n",
       "    .dataframe tbody tr th:only-of-type {\n",
       "        vertical-align: middle;\n",
       "    }\n",
       "\n",
       "    .dataframe tbody tr th {\n",
       "        vertical-align: top;\n",
       "    }\n",
       "\n",
       "    .dataframe thead th {\n",
       "        text-align: right;\n",
       "    }\n",
       "</style>\n",
       "<table border=\"1\" class=\"dataframe\">\n",
       "  <thead>\n",
       "    <tr style=\"text-align: right;\">\n",
       "      <th></th>\n",
       "      <th>urn</th>\n",
       "      <th>1</th>\n",
       "      <th>2</th>\n",
       "      <th>3</th>\n",
       "      <th>4</th>\n",
       "      <th>5</th>\n",
       "      <th>6</th>\n",
       "      <th>7</th>\n",
       "      <th>8</th>\n",
       "      <th>9</th>\n",
       "    </tr>\n",
       "  </thead>\n",
       "  <tbody>\n",
       "    <tr>\n",
       "      <th>0</th>\n",
       "      <td>2012082908107</td>\n",
       "      <td>Iversen, Jan Roger</td>\n",
       "      <td>1987</td>\n",
       "      <td>Bardu næringstjeneste, Tranøy næringstjeneste</td>\n",
       "      <td>prosjekt</td>\n",
       "      <td>Sentas</td>\n",
       "      <td>unknown</td>\n",
       "      <td>500f4d59867115232b50dba556dad2ef</td>\n",
       "      <td>nob</td>\n",
       "      <td></td>\n",
       "    </tr>\n",
       "    <tr>\n",
       "      <th>1</th>\n",
       "      <td>2013092407101</td>\n",
       "      <td>Seamands, David A.</td>\n",
       "      <td>1992</td>\n",
       "      <td>Fri fra vonde minner</td>\n",
       "      <td></td>\n",
       "      <td>Rex</td>\n",
       "      <td>notfiction</td>\n",
       "      <td>0d47c31ea218f9ee85d133ec98da6454</td>\n",
       "      <td>nob</td>\n",
       "      <td>eng</td>\n",
       "    </tr>\n",
       "    <tr>\n",
       "      <th>2</th>\n",
       "      <td>2010120206007</td>\n",
       "      <td>Santos, Sølvi dos</td>\n",
       "      <td>1998</td>\n",
       "      <td>Magiske Mallorca</td>\n",
       "      <td>stil og interiør på de spanske middelhavsøyene</td>\n",
       "      <td>Grøndahl Dreyer</td>\n",
       "      <td>notfiction</td>\n",
       "      <td>af23dbd7616f70bb39b30cfe05e66abf</td>\n",
       "      <td>nob</td>\n",
       "      <td>eng</td>\n",
       "    </tr>\n",
       "    <tr>\n",
       "      <th>3</th>\n",
       "      <td>2013091838081</td>\n",
       "      <td></td>\n",
       "      <td>1986</td>\n",
       "      <td>Verdens dyr</td>\n",
       "      <td></td>\n",
       "      <td>Den norske Bokklubben;[Oslo] : Den norske Bokk...</td>\n",
       "      <td>unknown</td>\n",
       "      <td>f16f8e3ad8781c7ce41712f2df5581a0</td>\n",
       "      <td>nob</td>\n",
       "      <td></td>\n",
       "    </tr>\n",
       "    <tr>\n",
       "      <th>4</th>\n",
       "      <td>2007111301084</td>\n",
       "      <td>Bernt, Jan Fridthjof</td>\n",
       "      <td>1989</td>\n",
       "      <td>Kommunalrett</td>\n",
       "      <td></td>\n",
       "      <td>TANO</td>\n",
       "      <td>notfiction</td>\n",
       "      <td>6de318326a7dfe03b9787cbad4943477</td>\n",
       "      <td>nob</td>\n",
       "      <td></td>\n",
       "    </tr>\n",
       "  </tbody>\n",
       "</table>\n",
       "</div>"
      ],
      "text/plain": [
       "             urn                     1     2  \\\n",
       "0  2012082908107    Iversen, Jan Roger  1987   \n",
       "1  2013092407101    Seamands, David A.  1992   \n",
       "2  2010120206007     Santos, Sølvi dos  1998   \n",
       "3  2013091838081                        1986   \n",
       "4  2007111301084  Bernt, Jan Fridthjof  1989   \n",
       "\n",
       "                                               3  \\\n",
       "0  Bardu næringstjeneste, Tranøy næringstjeneste   \n",
       "1                           Fri fra vonde minner   \n",
       "2                               Magiske Mallorca   \n",
       "3                                    Verdens dyr   \n",
       "4                                   Kommunalrett   \n",
       "\n",
       "                                                4  \\\n",
       "0                                        prosjekt   \n",
       "1                                                   \n",
       "2  stil og interiør på de spanske middelhavsøyene   \n",
       "3                                                   \n",
       "4                                                   \n",
       "\n",
       "                                                   5           6  \\\n",
       "0                                             Sentas     unknown   \n",
       "1                                                Rex  notfiction   \n",
       "2                                    Grøndahl Dreyer  notfiction   \n",
       "3  Den norske Bokklubben;[Oslo] : Den norske Bokk...     unknown   \n",
       "4                                               TANO  notfiction   \n",
       "\n",
       "                                  7    8    9  \n",
       "0  500f4d59867115232b50dba556dad2ef  nob       \n",
       "1  0d47c31ea218f9ee85d133ec98da6454  nob  eng  \n",
       "2  af23dbd7616f70bb39b30cfe05e66abf  nob  eng  \n",
       "3  f16f8e3ad8781c7ce41712f2df5581a0  nob       \n",
       "4  6de318326a7dfe03b9787cbad4943477  nob       "
      ]
     },
     "execution_count": 10,
     "metadata": {},
     "output_type": "execute_result"
    }
   ],
   "source": [
    "print(len(corpus))\n",
    "corpus.head()"
   ]
  },
  {
   "cell_type": "markdown",
   "metadata": {},
   "source": [
    "Set up the distance parameters and collword, smd is small distance while lmd is large distance. These values are half of the actual window, and used to make a normalized score, call ascore. See below."
   ]
  },
  {
   "cell_type": "code",
   "execution_count": 41,
   "metadata": {},
   "outputs": [
    {
     "name": "stdout",
     "output_type": "stream",
     "text": [
      "1\n",
      "2\n",
      "3\n"
     ]
    }
   ],
   "source": [
    "a1 = nb.frame(large_corpus_dist_coll(collword, urns=list(corpus.urn), after= int(2*smd), before = 0), 'freq')\n",
    "print(1)\n",
    "a2 = nb.frame(large_corpus_dist_coll(collword, urns=list(corpus.urn), after= int(2*lmd), before = 0), 'freq')  \n",
    "print(2)\n",
    "b1 = nb.frame(large_corpus_dist_coll(collword, urns=list(corpus.urn), after=0, before = int(2*smd)), 'freq')\n",
    "print(3)\n",
    "b2 = nb.frame(large_corpus_dist_coll(collword, urns=list(corpus.urn), after=0, before = int(2*lmd)), 'freq')\n",
    "\n",
    "\n"
   ]
  },
  {
   "cell_type": "code",
   "execution_count": 42,
   "metadata": {},
   "outputs": [],
   "source": [
    "a1.to_csv(fnames['small_right'])\n",
    "a2.to_csv(fnames['large_right'])\n",
    "b1.to_csv(fnames['small_left'])\n",
    "b2.to_csv(fnames['large_left'])"
   ]
  },
  {
   "cell_type": "code",
   "execution_count": null,
   "metadata": {},
   "outputs": [],
   "source": []
  }
 ],
 "metadata": {
  "kernelspec": {
   "display_name": "Python 3",
   "language": "python",
   "name": "python3"
  },
  "language_info": {
   "codemirror_mode": {
    "name": "ipython",
    "version": 3
   },
   "file_extension": ".py",
   "mimetype": "text/x-python",
   "name": "python",
   "nbconvert_exporter": "python",
   "pygments_lexer": "ipython3",
   "version": "3.8.3"
  }
 },
 "nbformat": 4,
 "nbformat_minor": 2
}
