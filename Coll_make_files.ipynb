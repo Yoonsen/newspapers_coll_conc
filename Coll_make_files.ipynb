{
 "cells": [
  {
   "cell_type": "markdown",
   "metadata": {},
   "source": [
    "\n",
    "# Data and computations for paper \n",
    "\n",
    "Lars G. Johnsen\n",
    "National Library of Norway"
   ]
  },
  {
   "cell_type": "code",
   "execution_count": 1,
   "metadata": {},
   "outputs": [
    {
     "data": {
      "text/markdown": [
       "Updated file `C:\\Users\\yoons\\Documents\\GitHub\\newspapers_coll_conc\\collocations.py`"
      ],
      "text/plain": [
       "<IPython.core.display.Markdown object>"
      ]
     },
     "metadata": {},
     "output_type": "display_data"
    }
   ],
   "source": [
    "import dhlab.nbtext as nb\n",
    "import dhlab.module_update as mu\n",
    "mu.update('collocations')\n",
    "from collocations import dist_coll_urn, urn_coll, calculate_midpoint, dist\n",
    "import pandas as pd"
   ]
  },
  {
   "cell_type": "code",
   "execution_count": 2,
   "metadata": {},
   "outputs": [],
   "source": [
    "def large_corpus_dist_coll(collword, urns = None, after= 10, before = 0, n = 300):\n",
    "    colls_freq = []\n",
    "    colls_dist = []\n",
    "    coll = pd.DataFrame()\n",
    "    for i in range(0, len(urns), n):\n",
    "        a = urn_coll(collword, urns = urns[i:i + n], after= after, before = before)\n",
    "        colls_freq.append(nb.frame(a['freq']))\n",
    "        colls_dist.append(nb.frame(a['dist']))\n",
    "    coll['freq'] = pd.concat(colls_freq, axis=1, sort=False).sum(axis=1)\n",
    "    coll['dist'] = pd.concat(colls_dist, axis = 1, sort=False).mean(axis=1)\n",
    "    coll['dist_score'] = round(dist(coll['dist'], calculate_midpoint(before, after), coll['freq']), 2)\n",
    "    return coll"
   ]
  },
  {
   "cell_type": "code",
   "execution_count": 3,
   "metadata": {},
   "outputs": [],
   "source": [
    "def large_corpus_coll(collword, urns = None, after= 5, before = 5, n = 300):\n",
    "    colls = []\n",
    "    for i in range(0, len(urns), n):\n",
    "        colls.append(nb.urn_coll(collword, urns=urns[i:i + n], after= after, before = before))\n",
    "    coll = pd.concat(colls, axis=1, sort=False).sum(axis=1)\n",
    "    return pd.DataFrame(coll)"
   ]
  },
  {
   "cell_type": "code",
   "execution_count": 4,
   "metadata": {},
   "outputs": [],
   "source": [
    "def make_coll_df(small, large, tot):\n",
    "    \"\"\"take two collocations, small and large, and a reference tot. The reference must av a column call tot as well\"\"\"\n",
    "    coll = pd.DataFrame()\n",
    "    coll['small'] = small['freq']\n",
    "    coll['large'] = large['freq']\n",
    "    #coll['ratio'] = coll['small']/coll['large']\n",
    "    coll['srel'] = coll.small/coll.small.sum()\n",
    "    coll['lrel'] = coll.large/coll.large.sum()\n",
    "    coll['ratio'] = coll.srel/coll.lrel\n",
    "    coll['adjusted'] = coll.small**0.01*coll.ratio\n",
    "    coll['nb'] = coll.small/tot.tot\n",
    "    return coll"
   ]
  },
  {
   "cell_type": "markdown",
   "metadata": {},
   "source": [
    "### Reference corpus\n",
    "\n",
    "The reference is the total counts from approximately 450 000 books from nb.no"
   ]
  },
  {
   "cell_type": "markdown",
   "metadata": {},
   "source": [
    "# Corpus\n",
    "\n",
    "The corpus for doing collocations is a sample of 800 books from fictional literature, dewey decimal code 813."
   ]
  },
  {
   "cell_type": "code",
   "execution_count": 5,
   "metadata": {},
   "outputs": [],
   "source": [
    "smd = 5\n",
    "lmd = 10\n",
    "collword = 'skrive'\n",
    "corpus_size= 1000\n",
    "period = (1980, 2000)"
   ]
  },
  {
   "cell_type": "code",
   "execution_count": 6,
   "metadata": {},
   "outputs": [],
   "source": [
    "def filenames(smd = 5, lmd = 10, collword = 'motor', corpus_size= 1000, period = (1980, 2000)):\n",
    "    return {\n",
    "    'small_right': '_'.join([collword, str(smd), str(corpus_size), '-'.join([str(x) for x in period]), str(0), str(int(2*smd)), '.csv']),\n",
    "    'large_right': '_'.join([collword, str(smd), str(corpus_size),  '-'.join([str(x) for x in period]), str(0), str(int(2*lmd)), '.csv']),\n",
    "    'small_left' : '_'.join([collword, str(lmd), str(corpus_size),  '-'.join([str(x) for x in period]), str(int(2*smd)), str(0), '.csv']),\n",
    "    'large_left' : '_'.join([collword, str(lmd), str(corpus_size),  '-'.join([str(x) for x in period]), str(int(2*lmd)), str(0), '.csv'])\n",
    "        }"
   ]
  },
  {
   "cell_type": "code",
   "execution_count": 7,
   "metadata": {},
   "outputs": [
    {
     "data": {
      "text/plain": [
       "{'small_right': 'skrive_5_1000_1980-2000_0_10_.csv',\n",
       " 'large_right': 'skrive_5_1000_1980-2000_0_20_.csv',\n",
       " 'small_left': 'skrive_10_1000_1980-2000_10_0_.csv',\n",
       " 'large_left': 'skrive_10_1000_1980-2000_20_0_.csv'}"
      ]
     },
     "execution_count": 7,
     "metadata": {},
     "output_type": "execute_result"
    }
   ],
   "source": [
    "fnames = filenames(smd=smd, lmd=lmd, collword=collword, corpus_size=corpus_size, period=period)\n",
    "fnames"
   ]
  },
  {
   "cell_type": "code",
   "execution_count": 8,
   "metadata": {},
   "outputs": [],
   "source": [
    "corpus = nb.book_corpus(words=[collword], period = period, limit = corpus_size)"
   ]
  },
  {
   "cell_type": "code",
   "execution_count": 9,
   "metadata": {},
   "outputs": [],
   "source": [
    "corpus = nb.frame([x for x in nb.metadata(corpus) if x[8] == 'nob'], ['urn'])"
   ]
  },
  {
   "cell_type": "code",
   "execution_count": 10,
   "metadata": {},
   "outputs": [
    {
     "name": "stdout",
     "output_type": "stream",
     "text": [
      "807\n"
     ]
    },
    {
     "data": {
      "text/html": [
       "<div>\n",
       "<style scoped>\n",
       "    .dataframe tbody tr th:only-of-type {\n",
       "        vertical-align: middle;\n",
       "    }\n",
       "\n",
       "    .dataframe tbody tr th {\n",
       "        vertical-align: top;\n",
       "    }\n",
       "\n",
       "    .dataframe thead th {\n",
       "        text-align: right;\n",
       "    }\n",
       "</style>\n",
       "<table border=\"1\" class=\"dataframe\">\n",
       "  <thead>\n",
       "    <tr style=\"text-align: right;\">\n",
       "      <th></th>\n",
       "      <th>urn</th>\n",
       "      <th>1</th>\n",
       "      <th>2</th>\n",
       "      <th>3</th>\n",
       "      <th>4</th>\n",
       "      <th>5</th>\n",
       "      <th>6</th>\n",
       "      <th>7</th>\n",
       "      <th>8</th>\n",
       "      <th>9</th>\n",
       "    </tr>\n",
       "  </thead>\n",
       "  <tbody>\n",
       "    <tr>\n",
       "      <th>0</th>\n",
       "      <td>2014102008058</td>\n",
       "      <td>Oldeide, Liv Mathilde</td>\n",
       "      <td>1995</td>\n",
       "      <td>Perlestein og tåresmil</td>\n",
       "      <td></td>\n",
       "      <td>O.E. Eilertsen forl.</td>\n",
       "      <td>fiction</td>\n",
       "      <td>5915c7586cde2385c048c2308790aa98</td>\n",
       "      <td>nob</td>\n",
       "      <td></td>\n",
       "    </tr>\n",
       "    <tr>\n",
       "      <th>1</th>\n",
       "      <td>2007080804022</td>\n",
       "      <td>Rem, Håvard</td>\n",
       "      <td>1991</td>\n",
       "      <td>Galgeland</td>\n",
       "      <td>dikt</td>\n",
       "      <td>Cappelen</td>\n",
       "      <td>fiction</td>\n",
       "      <td>c93a65f7c701efb126b78847ff7fc82a</td>\n",
       "      <td>nob</td>\n",
       "      <td></td>\n",
       "    </tr>\n",
       "    <tr>\n",
       "      <th>2</th>\n",
       "      <td>2014072208029</td>\n",
       "      <td>Ytterland, Vegard</td>\n",
       "      <td>1999</td>\n",
       "      <td>Skolen - en sentral arena for barns bevegelses...</td>\n",
       "      <td></td>\n",
       "      <td>Høgskolen i Oslo</td>\n",
       "      <td>unknown</td>\n",
       "      <td>b2bb134e9e2bd74e85b25aec435c1750</td>\n",
       "      <td>nob</td>\n",
       "      <td></td>\n",
       "    </tr>\n",
       "    <tr>\n",
       "      <th>3</th>\n",
       "      <td>2008011601089</td>\n",
       "      <td>Verne, Jules</td>\n",
       "      <td>1993</td>\n",
       "      <td>Tsarens kurer</td>\n",
       "      <td></td>\n",
       "      <td>Gyldendal</td>\n",
       "      <td>fiction</td>\n",
       "      <td>852d01ff7bcd443335877a6cecdea5a6</td>\n",
       "      <td>nob</td>\n",
       "      <td>fre</td>\n",
       "    </tr>\n",
       "    <tr>\n",
       "      <th>4</th>\n",
       "      <td>2008060904086</td>\n",
       "      <td></td>\n",
       "      <td>1990</td>\n",
       "      <td>Forbrukerrådets håndbok i personlig økonomi</td>\n",
       "      <td></td>\n",
       "      <td>Forbrukerrådet</td>\n",
       "      <td>notfiction</td>\n",
       "      <td>6662485bac88c25a178e7fbe78e5e125</td>\n",
       "      <td>nob</td>\n",
       "      <td></td>\n",
       "    </tr>\n",
       "  </tbody>\n",
       "</table>\n",
       "</div>"
      ],
      "text/plain": [
       "             urn                      1     2  \\\n",
       "0  2014102008058  Oldeide, Liv Mathilde  1995   \n",
       "1  2007080804022            Rem, Håvard  1991   \n",
       "2  2014072208029      Ytterland, Vegard  1999   \n",
       "3  2008011601089           Verne, Jules  1993   \n",
       "4  2008060904086                         1990   \n",
       "\n",
       "                                                   3     4  \\\n",
       "0                             Perlestein og tåresmil         \n",
       "1                                          Galgeland  dikt   \n",
       "2  Skolen - en sentral arena for barns bevegelses...         \n",
       "3                                      Tsarens kurer         \n",
       "4        Forbrukerrådets håndbok i personlig økonomi         \n",
       "\n",
       "                      5           6                                 7    8  \\\n",
       "0  O.E. Eilertsen forl.     fiction  5915c7586cde2385c048c2308790aa98  nob   \n",
       "1              Cappelen     fiction  c93a65f7c701efb126b78847ff7fc82a  nob   \n",
       "2      Høgskolen i Oslo     unknown  b2bb134e9e2bd74e85b25aec435c1750  nob   \n",
       "3             Gyldendal     fiction  852d01ff7bcd443335877a6cecdea5a6  nob   \n",
       "4        Forbrukerrådet  notfiction  6662485bac88c25a178e7fbe78e5e125  nob   \n",
       "\n",
       "     9  \n",
       "0       \n",
       "1       \n",
       "2       \n",
       "3  fre  \n",
       "4       "
      ]
     },
     "execution_count": 10,
     "metadata": {},
     "output_type": "execute_result"
    }
   ],
   "source": [
    "print(len(corpus))\n",
    "corpus.head()"
   ]
  },
  {
   "cell_type": "markdown",
   "metadata": {},
   "source": [
    "Set up the distance parameters and collword, smd is small distance while lmd is large distance. These values are half of the actual window, and used to make a normalized score, call ascore. See below."
   ]
  },
  {
   "cell_type": "code",
   "execution_count": 11,
   "metadata": {},
   "outputs": [
    {
     "name": "stdout",
     "output_type": "stream",
     "text": [
      "1\n",
      "2\n",
      "3\n"
     ]
    }
   ],
   "source": [
    "a1 = nb.frame(large_corpus_dist_coll(collword, urns=list(corpus.urn), after= int(2*smd), before = 0), 'freq')\n",
    "print(1)\n",
    "a2 = nb.frame(large_corpus_dist_coll(collword, urns=list(corpus.urn), after= int(2*lmd), before = 0), 'freq')  \n",
    "print(2)\n",
    "b1 = nb.frame(large_corpus_dist_coll(collword, urns=list(corpus.urn), after=0, before = int(2*smd)), 'freq')\n",
    "print(3)\n",
    "b2 = nb.frame(large_corpus_dist_coll(collword, urns=list(corpus.urn), after=0, before = int(2*lmd)), 'freq')\n",
    "\n",
    "\n"
   ]
  },
  {
   "cell_type": "code",
   "execution_count": 12,
   "metadata": {},
   "outputs": [],
   "source": [
    "a1.to_csv(fnames['small_right'])\n",
    "a2.to_csv(fnames['large_right'])\n",
    "b1.to_csv(fnames['small_left'])\n",
    "b2.to_csv(fnames['large_left'])"
   ]
  },
  {
   "cell_type": "code",
   "execution_count": null,
   "metadata": {},
   "outputs": [],
   "source": []
  }
 ],
 "metadata": {
  "kernelspec": {
   "display_name": "Python 3",
   "language": "python",
   "name": "python3"
  },
  "language_info": {
   "codemirror_mode": {
    "name": "ipython",
    "version": 3
   },
   "file_extension": ".py",
   "mimetype": "text/x-python",
   "name": "python",
   "nbconvert_exporter": "python",
   "pygments_lexer": "ipython3",
   "version": "3.7.3"
  }
 },
 "nbformat": 4,
 "nbformat_minor": 2
}
